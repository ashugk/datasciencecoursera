{
  "nbformat": 4,
  "nbformat_minor": 0,
  "metadata": {
    "colab": {
      "name": "If-Else Assignment.ipynb",
      "provenance": [],
      "authorship_tag": "ABX9TyNIFaoMdFYF9QQc+mov8bFk",
      "include_colab_link": true
    },
    "kernelspec": {
      "name": "python3",
      "display_name": "Python 3"
    },
    "language_info": {
      "name": "python"
    }
  },
  "cells": [
    {
      "cell_type": "markdown",
      "metadata": {
        "id": "view-in-github",
        "colab_type": "text"
      },
      "source": [
        "<a href=\"https://colab.research.google.com/github/ashugk/datasciencecoursera/blob/master/If_Else_Assignment.ipynb\" target=\"_parent\"><img src=\"https://colab.research.google.com/assets/colab-badge.svg\" alt=\"Open In Colab\"/></a>"
      ]
    },
    {
      "cell_type": "markdown",
      "source": [
        "Problem Statement: You work in XYZ Corporation as a Data Analyst. Your company has told you to work with the If- Else Conditions.\n"
      ],
      "metadata": {
        "id": "CosaPqZ7Nexx"
      }
    },
    {
      "cell_type": "markdown",
      "source": [
        "Tasks to be performed:\n",
        "1. Input the values of a and b as 10 and 20 respectively. Now check if a is greater or b is greater using if condition. Think about all the edge cases, and print the statements accordingly."
      ],
      "metadata": {
        "id": "8mH-QP1DNn3-"
      }
    },
    {
      "cell_type": "code",
      "source": [
        "a=10\n",
        "b=20\n",
        "if(a>b):\n",
        "  print(\"a is greater than b\")\n",
        "elif(a == b):\n",
        "  print(\"a and b are equal\")\n",
        "else:\n",
        "      print(\"b is greater than a\")"
      ],
      "metadata": {
        "colab": {
          "base_uri": "https://localhost:8080/"
        },
        "id": "li_ChP5HNir3",
        "outputId": "45601e20-606d-400c-990c-9ff54d0ddd99"
      },
      "execution_count": 2,
      "outputs": [
        {
          "output_type": "stream",
          "name": "stdout",
          "text": [
            "b is greater than a\n"
          ]
        }
      ]
    },
    {
      "cell_type": "code",
      "source": [
        ""
      ],
      "metadata": {
        "id": "Jb8GGM8jN7Kz"
      },
      "execution_count": null,
      "outputs": []
    }
  ]
}